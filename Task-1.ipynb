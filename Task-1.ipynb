{
 "cells": [
  {
   "cell_type": "code",
   "execution_count": 1,
   "id": "9c3833b1",
   "metadata": {},
   "outputs": [],
   "source": [
    "import nltk\n",
    "from nltk.corpus import stopwords\n",
    "from nltk.tokenize import word_tokenize\n",
    "from nltk.stem import WordNetLemmatizer"
   ]
  },
  {
   "cell_type": "code",
   "execution_count": 2,
   "id": "af933fc6",
   "metadata": {},
   "outputs": [],
   "source": [
    "# Define a job description and a candidate's resume\n",
    "job_description = \"We are looking for a software engineer with experience in Python and machine learning. The candidate should have a degree in computer science or a related field.\"\n",
    "resume = \"I am a software engineer with 5 years of experience in Python and machine learning. I have a bachelor's degree in computer science from XYZ University.\""
   ]
  },
  {
   "cell_type": "code",
   "execution_count": 4,
   "id": "3e3d5418",
   "metadata": {},
   "outputs": [],
   "source": [
    "# Define a function to preprocess text data\n",
    "def preprocess_text(text):\n",
    "    # Tokenize the text into words\n",
    "    words = word_tokenize(text.lower())\n",
    "\n",
    "    # Remove stop words and punctuation\n",
    "    stop_words = set(stopwords.words('english'))\n",
    "    words = [word for word in words if word.isalnum() and word not in stop_words]\n",
    "    \n",
    "    # Lemmatize the words\n",
    "    lemmatizer = WordNetLemmatizer()\n",
    "    words = [lemmatizer.lemmatize(word) for word in words]\n",
    "\n",
    "    return words"
   ]
  },
  {
   "cell_type": "code",
   "execution_count": 6,
   "id": "30f6e81e",
   "metadata": {},
   "outputs": [
    {
     "name": "stderr",
     "output_type": "stream",
     "text": [
      "[nltk_data] Downloading package punkt to\n",
      "[nltk_data]     C:\\Users\\karng\\AppData\\Roaming\\nltk_data...\n",
      "[nltk_data]   Unzipping tokenizers\\punkt.zip.\n"
     ]
    },
    {
     "data": {
      "text/plain": [
       "True"
      ]
     },
     "execution_count": 6,
     "metadata": {},
     "output_type": "execute_result"
    }
   ],
   "source": [
    "import nltk\n",
    "nltk.download('punkt')"
   ]
  },
  {
   "cell_type": "code",
   "execution_count": 8,
   "id": "e3e1599c",
   "metadata": {
    "scrolled": true
   },
   "outputs": [
    {
     "name": "stderr",
     "output_type": "stream",
     "text": [
      "[nltk_data] Downloading package stopwords to\n",
      "[nltk_data]     C:\\Users\\karng\\AppData\\Roaming\\nltk_data...\n",
      "[nltk_data]   Unzipping corpora\\stopwords.zip.\n"
     ]
    },
    {
     "data": {
      "text/plain": [
       "True"
      ]
     },
     "execution_count": 8,
     "metadata": {},
     "output_type": "execute_result"
    }
   ],
   "source": [
    "import nltk\n",
    "nltk.download('stopwords')"
   ]
  },
  {
   "cell_type": "code",
   "execution_count": 10,
   "id": "a736c5d3",
   "metadata": {},
   "outputs": [
    {
     "name": "stderr",
     "output_type": "stream",
     "text": [
      "[nltk_data] Downloading package wordnet to\n",
      "[nltk_data]     C:\\Users\\karng\\AppData\\Roaming\\nltk_data...\n"
     ]
    },
    {
     "data": {
      "text/plain": [
       "True"
      ]
     },
     "execution_count": 10,
     "metadata": {},
     "output_type": "execute_result"
    }
   ],
   "source": [
    "import nltk\n",
    "nltk.download('wordnet')"
   ]
  },
  {
   "cell_type": "code",
   "execution_count": 11,
   "id": "4e3f55b1",
   "metadata": {},
   "outputs": [],
   "source": [
    "# Preprocess the job description and the resume\n",
    "job_words = preprocess_text(job_description)\n",
    "resume_words = preprocess_text(resume)"
   ]
  },
  {
   "cell_type": "code",
   "execution_count": 12,
   "id": "afa33ebb",
   "metadata": {},
   "outputs": [],
   "source": [
    "# Find the relevant skills in the job description and the resume\n",
    "job_skills = set([word for word in job_words if word in ['python', 'machine', 'learning']])\n",
    "resume_skills = set([word for word in resume_words if word in ['python', 'machine', 'learning']])"
   ]
  },
  {
   "cell_type": "code",
   "execution_count": 13,
   "id": "ebac21db",
   "metadata": {},
   "outputs": [],
   "source": [
    "# Calculate a match score between the job skills and the resume skills\n",
    "match_score = len(resume_skills.intersection(job_skills)) / len(job_skills)"
   ]
  },
  {
   "cell_type": "code",
   "execution_count": 14,
   "id": "3a5d5ac1",
   "metadata": {},
   "outputs": [
    {
     "name": "stdout",
     "output_type": "stream",
     "text": [
      "Match score: 1.0\n"
     ]
    }
   ],
   "source": [
    "# Print the match score\n",
    "print(\"Match score:\", match_score)"
   ]
  }
 ],
 "metadata": {
  "kernelspec": {
   "display_name": "Python 3 (ipykernel)",
   "language": "python",
   "name": "python3"
  },
  "language_info": {
   "codemirror_mode": {
    "name": "ipython",
    "version": 3
   },
   "file_extension": ".py",
   "mimetype": "text/x-python",
   "name": "python",
   "nbconvert_exporter": "python",
   "pygments_lexer": "ipython3",
   "version": "3.11.3"
  }
 },
 "nbformat": 4,
 "nbformat_minor": 5
}
